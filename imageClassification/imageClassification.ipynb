{
 "cells": [
  {
   "cell_type": "markdown",
   "metadata": {
    "id": "CEDNyU54yU-7"
   },
   "source": [
    "## Homework 4: Neural Networks"
   ]
  },
  {
   "cell_type": "markdown",
   "metadata": {
    "id": "SQ3aLwR5yU-_"
   },
   "source": [
    "**Due date:** May 4, 2022\n",
    "\n",
    "The goal of the assignment is to train a simple neural network on MNIST data.\n",
    "\n",
    "*Note:* This notebook requires Python 3.\n",
    "\n",
    "**Instructions:**\n",
    "\n",
    "* Read and understand the provided code, which is a basic implementation of a neural network as a modular architecture.\n",
    "* Download the [MNIST data](http://deeplearning.net/data/mnist/mnist.pkl.gz) (~15Mo). It consists of 28x28 images (loaded as a 784 vector) and the associated labels for training, validation and test sets. For this homework, you will only use the training and validation sets. \n",
    "* Write a simple loop to train 50 iterations of the implemented MLP (multi-layer perceptron) with a learning rate 0.001 and batches of size 16. Plot the training and validation losses throughout the training process (you don't have to test your network at every iteration, you can do it for example every 10 iterations).\n",
    "* Evaluate the accuracy of your trained model on the training and validation data. Check the predictions on random validation images.\n",
    "* Try changing learning rate and batch size and see if you can improve your results.\n",
    "* How many parameters does the network have? Implement and experiment with some variations of the architecture, for example:\n",
    "    * Implement and use the cross-entropy loss instead of L2 loss.\n",
    "    * Add a parameter to vary the size of the intermediate layer.\n",
    "    * Use a MLP with 3 layers and parameters for the sizes of the two intermediate layers.\n"
   ]
  },
  {
   "cell_type": "markdown",
   "metadata": {
    "id": "HIheFnwqyU_A"
   },
   "source": [
    "*MLP implementation*"
   ]
  },
  {
   "cell_type": "code",
   "execution_count": 1,
   "metadata": {
    "id": "CljISKjEyU_A"
   },
   "outputs": [],
   "source": [
    "import numpy as np \n",
    "import math\n",
    "import matplotlib.pyplot as plt \n",
    "%matplotlib inline \n",
    "plt.rcParams['image.cmap'] = 'gray' \n",
    "import gzip\n",
    "import pickle\n",
    "import os\n",
    "\n",
    "\n",
    "class Module(object):\n",
    "    def __init__(self):\n",
    "        self.gradInput=None \n",
    "        self.output=None\n",
    "        \n",
    "    def forward(self, *input):\n",
    "        \"\"\"Defines the computation performed at every call.\n",
    "        Should be overriden by all subclasses.\n",
    "        \"\"\"\n",
    "        raise NotImplementedError\n",
    "        \n",
    "    def backward(self, *input):\n",
    "        \"\"\"Defines the computation performed at every call.\n",
    "        Should be overriden by all subclasses.\n",
    "        \"\"\"\n",
    "        raise NotImplementedError\n",
    "        \n",
    "        \n",
    "class LeastSquareCriterion(Module):\n",
    "    \"\"\"\n",
    "    This implementation of the least square loss assumes that the data comes as a 2 dimensional array\n",
    "    of size (batch_size,num_classes) and the labels as a vector of size (num_classes) \n",
    "    \"\"\"\n",
    "    def __init__(self, num_classes=10):\n",
    "        super(LeastSquareCriterion, self).__init__()\n",
    "        self.num_classes=num_classes\n",
    "    \n",
    "    def forward(self, x, labels):\n",
    "        target=np.zeros([x.shape[0],self.num_classes])\n",
    "        for i in range(x.shape[0]):\n",
    "            target[i,labels[i]]=1\n",
    "        self.output = np.sum((target-x)**2,axis=0)\n",
    "        return np.sum(self.output)\n",
    "    \n",
    "    def backward(self, x, labels):\n",
    "        self.gradInput=x\n",
    "        for i in range(x.shape[0]):\n",
    "            self.gradInput[i,labels[i]]=x[i,labels[i]]-1\n",
    "        return self.gradInput\n",
    "    \n",
    "\n",
    "class Linear(Module):\n",
    "    \"\"\"\n",
    "    The input is supposed to have two dimensions (batchSize,in_feature)\n",
    "    \"\"\"\n",
    "    def __init__(self, in_features, out_features, bias=True):\n",
    "        super(Linear, self).__init__()\n",
    "        self.in_features = in_features\n",
    "        self.out_features = out_features\n",
    "        self.weight = math.sqrt(1. / (out_features* in_features))*np.random.randn(out_features, in_features)\n",
    "        self.bias = np.zeros(out_features)\n",
    "        self.gradWeight=None\n",
    "        self.gradBias=None\n",
    "        \n",
    "    def forward(self, x):\n",
    "        self.output= np.dot(x,self.weight.transpose())+np.repeat(self.bias.reshape([1,-1]),x.shape[0], axis=0)\n",
    "        return self.output\n",
    "    \n",
    "    def backward(self, x, gradOutput):\n",
    "        self.gradInput=np.dot(gradOutput,self.weight)\n",
    "        self.gradWeight=np.dot(gradOutput.transpose(),x)\n",
    "        self.gradBias=np.sum(gradOutput, axis=0)\n",
    "        return self.gradInput\n",
    "    \n",
    "    def gradientStep(self, lr):\n",
    "        self.weight=self.weight-lr*self.gradWeight\n",
    "        self.bias=self.bias-lr*self.gradBias\n",
    "        \n",
    "\n",
    "class ReLU(Module):\n",
    "    \n",
    "    def __init__(self, bias=True):\n",
    "        super(ReLU, self).__init__()\n",
    "        \n",
    "    def forward(self, x):\n",
    "        self.output=x.clip(0)\n",
    "        return self.output\n",
    "    \n",
    "    def backward(self, x, gradOutput):\n",
    "        self.gradInput=(x>0)*gradOutput\n",
    "        return self.gradInput\n",
    "    \n",
    "\n",
    "class MLP(Module):\n",
    "\n",
    "    def __init__(self, num_classes=10):\n",
    "        super(MLP, self).__init__()\n",
    "        self.fc1 = Linear(784, 64)\n",
    "        self.relu1 = ReLU()\n",
    "        self.fc2 = Linear(64, 10)\n",
    "    \n",
    "    def forward(self, x):\n",
    "        x = self.fc1.forward(x)\n",
    "        x = self.relu1.forward(x)\n",
    "        x = self.fc2.forward(x)\n",
    "        return x\n",
    "    \n",
    "    def backward(self, x, gradient):\n",
    "        gradient = self.fc2.backward(self.relu1.output,gradient)\n",
    "        gradient = self.relu1.backward(self.fc1.output,gradient)\n",
    "        gradient = self.fc1.backward(x,gradient)\n",
    "        return gradient\n",
    "    \n",
    "    def gradientStep(self, lr):\n",
    "        self.fc2.gradientStep(lr)\n",
    "        self.fc1.gradientStep(lr)\n",
    "        return True"
   ]
  },
  {
   "cell_type": "markdown",
   "metadata": {
    "id": "Jbqu9znvyU_D"
   },
   "source": [
    "#### Download the [MNIST data](https://figshare.com/articles/dataset/mnist_pkl_gz/13303457/1). It consists of 28x28 images (loaded as a 784 vector) and the associated labels for training, validation and test sets."
   ]
  },
  {
   "cell_type": "code",
   "execution_count": 2,
   "metadata": {
    "id": "ibZ3nP5WyU_D"
   },
   "outputs": [
    {
     "name": "stdout",
     "output_type": "stream",
     "text": [
      "5\n"
     ]
    },
    {
     "data": {
      "image/png": "[encoded data removed]",
      "text/plain": [
       "<Figure size 432x288 with 1 Axes>"
      ]
     },
     "metadata": {
      "needs_background": "light"
     },
     "output_type": "display_data"
    }
   ],
   "source": [
    "path = os.getcwd() \n",
    "f = gzip.open(path + '/mnist.pkl.gz', 'rb') \n",
    "train_set, val_set, test_set = pickle.load(f, encoding='latin1')\n",
    "f.close()\n",
    "\n",
    "train_data=train_set[0]\n",
    "train_labels=train_set[1]\n",
    "val_data=val_set[0]\n",
    "val_labels=val_set[1]\n",
    "N_train=train_data.shape[0]\n",
    "N_val=val_data.shape[0]\n",
    "\n",
    "plt.imshow(train_data[0,:].reshape(28,28))\n",
    "print(train_labels[0])"
   ]
  },
  {
   "cell_type": "markdown",
   "metadata": {},
   "source": [
    "#### Write a simple loop to train 50 iterations of the implemented MLP (multi-layer perceptron) with a learning rate 0.001 and batches of size 16. Plot the training and validation losses throughout the training process."
   ]
  },
  {
   "cell_type": "code",
   "execution_count": 3,
   "metadata": {},
   "outputs": [],
   "source": [
    "def train_model(num_epochs, learn_rate, batch_size, model, criterion, train_data, train_labels, val_data, val_labels):\n",
    "    \n",
    "    n_train, n_val = len(train_data), len(val_data)\n",
    "    train_loss = np.empty([num_epochs, int(n_train/batch_size)])\n",
    "    val_loss = np.empty([num_epochs, int(n_val/batch_size)])\n",
    "    \n",
    "    for epoch in range(num_epochs):\n",
    "        \n",
    "        for i in range(int(n_train/batch_size)):\n",
    "            x = train_data[batch_size*i:batch_size*(i+1)]\n",
    "            y = train_labels[batch_size*i:batch_size*(i+1)]\n",
    "            y_pred = model.forward(x)\n",
    "            train_loss[epoch, i] = criterion.forward(y_pred, y)\n",
    "            grad0 = criterion.backward(y_pred, y)\n",
    "            grad = model.backward(x, grad0)\n",
    "            model.gradientStep(learn_rate)  \n",
    "\n",
    "        for j in range(int(N_val/batch_size)):\n",
    "            x = val_data[batch_size*j:batch_size*(j+1)]\n",
    "            y = val_labels[batch_size*j:batch_size*(j+1)]\n",
    "            y_pred = model.forward(x)\n",
    "            val_loss[epoch, j] = criterion.forward(y_pred, y)\n",
    "            \n",
    "        if (epoch+1) % 10 == 0:\n",
    "            print('Training epoch:', epoch+1)\n",
    "            \n",
    "    plt.plot(np.mean(train_loss, axis=1))\n",
    "    plt.plot(np.mean(val_loss, axis=1))\n",
    "    plt.xlabel('Epoch')\n",
    "    plt.ylabel('Loss')\n",
    "    plt.legend(['train','val'])\n",
    "    plt.show()"
   ]
  },
  {
   "cell_type": "code",
   "execution_count": 4,
   "metadata": {},
   "outputs": [
    {
     "name": "stdout",
     "output_type": "stream",
     "text": [
      "Training epoch: 10\n",
      "Training epoch: 20\n",
      "Training epoch: 30\n",
      "Training epoch: 40\n",
      "Training epoch: 50\n"
     ]
    },
    {
     "data": {
      "image/png": "[encoded data removed]",
      "text/plain": [
       "<Figure size 432x288 with 1 Axes>"
      ]
     },
     "metadata": {
      "needs_background": "light"
     },
     "output_type": "display_data"
    }
   ],
   "source": [
    "num_epochs = 50\n",
    "learn_rate = 1e-3\n",
    "batch_size = 16\n",
    "model = MLP()\n",
    "criterion = LeastSquareCriterion()\n",
    "train_model(num_epochs, learn_rate, batch_size, model, criterion, train_data, train_labels, val_data, val_labels)"
   ]
  },
  {
   "cell_type": "markdown",
   "metadata": {},
   "source": [
    "#### Evaluate the accuracy of your trained model on the training and validation data. Check the predictions on random validation images."
   ]
  },
  {
   "cell_type": "code",
   "execution_count": 5,
   "metadata": {},
   "outputs": [],
   "source": [
    "def evaluate_model(model, val_data, val_labels, batch_size, num_samples):\n",
    "    \n",
    "    n_val = len(val_data)\n",
    "    y_pred = np.empty([int(n_val/batch_size), batch_size])\n",
    "    \n",
    "    for i in range(int(n_val/batch_size)):\n",
    "        x = val_data[batch_size*i:batch_size*(i+1)]\n",
    "        y = val_labels[batch_size*i:batch_size*(i+1)]\n",
    "        y_pred[i,:] = np.argmax(model.forward(x),axis=1)\n",
    "    \n",
    "    rand_index = np.random.randint(len(val_data), size=num_samples)\n",
    "    model_accuracy = (y_pred.flatten()[rand_index]==val_labels[rand_index]).mean()\n",
    "\n",
    "    return model_accuracy"
   ]
  },
  {
   "cell_type": "code",
   "execution_count": 6,
   "metadata": {},
   "outputs": [
    {
     "name": "stdout",
     "output_type": "stream",
     "text": [
      "Model accuracy: 0.974\n"
     ]
    }
   ],
   "source": [
    "num_samples = int(1e3)\n",
    "model_accuracy = evaluate_model(model, val_data, val_labels, batch_size, num_samples)\n",
    "print('Model accuracy:', model_accuracy)"
   ]
  },
  {
   "cell_type": "markdown",
   "metadata": {},
   "source": [
    "#### Try changing learning rate and batch size and see if you can improve your results."
   ]
  },
  {
   "cell_type": "code",
   "execution_count": 7,
   "metadata": {},
   "outputs": [
    {
     "name": "stdout",
     "output_type": "stream",
     "text": [
      "Training epoch: 10\n",
      "Training epoch: 20\n",
      "Training epoch: 30\n",
      "Training epoch: 40\n",
      "Training epoch: 50\n"
     ]
    },
    {
     "data": {
      "image/png": "[encoded data removed]",
      "text/plain": [
       "<Figure size 432x288 with 1 Axes>"
      ]
     },
     "metadata": {
      "needs_background": "light"
     },
     "output_type": "display_data"
    },
    {
     "name": "stdout",
     "output_type": "stream",
     "text": [
      "Model accuracy: 0.975\n"
     ]
    }
   ],
   "source": [
    "num_epochs = 50\n",
    "learn_rate = 1e-3/2\n",
    "batch_size = 100\n",
    "model = MLP()\n",
    "criterion = LeastSquareCriterion()\n",
    "num_samples = int(1e3)\n",
    "train_model(num_epochs, learn_rate, batch_size, model, criterion, train_data, train_labels, val_data, val_labels)\n",
    "model_accuracy = evaluate_model(model, val_data, val_labels, batch_size, num_samples)\n",
    "print('Model accuracy:', model_accuracy)"
   ]
  },
  {
   "cell_type": "markdown",
   "metadata": {},
   "source": [
    "#### How many parameters does the network have?\n",
    "\n",
    "(784 input units * 64 weights + 64 biases) + (64 hidden units * 10 weights + 10 biases) = 50,890 parameters"
   ]
  },
  {
   "cell_type": "markdown",
   "metadata": {},
   "source": [
    "#### Implement and use the cross-entropy loss instead of L2 loss."
   ]
  },
  {
   "cell_type": "code",
   "execution_count": 8,
   "metadata": {},
   "outputs": [],
   "source": [
    "class CrossEntropyCriterion(Module):\n",
    "    \"\"\"\n",
    "    This implementation of the cross-entropy loss assumes that the data comes as a 2 dimensional array\n",
    "    of size (batch_size,num_classes) and the labels as a vector of size (num_classes) \n",
    "    \"\"\"\n",
    "    def __init__(self, num_classes=10):\n",
    "        super(CrossEntropyCriterion, self).__init__()\n",
    "        self.num_classes=num_classes\n",
    "    \n",
    "    def forward(self, x, labels):\n",
    "        target=np.zeros([x.shape[0],self.num_classes])\n",
    "        for i in range(x.shape[0]):\n",
    "            target[i,labels[i]]=1\n",
    "        self.output = -np.sum(target * np.log(np.abs(x) + 1e-8))\n",
    "        return self.output\n",
    "            \n",
    "    def backward(self, x, labels):\n",
    "        self.gradInput=x\n",
    "        for i in range(x.shape[0]):\n",
    "            self.gradInput[i, labels[i]]=x[i,labels[i]]-1\n",
    "        return self.gradInput"
   ]
  },
  {
   "cell_type": "code",
   "execution_count": 9,
   "metadata": {},
   "outputs": [
    {
     "name": "stdout",
     "output_type": "stream",
     "text": [
      "Training epoch: 10\n",
      "Training epoch: 20\n",
      "Training epoch: 30\n",
      "Training epoch: 40\n",
      "Training epoch: 50\n"
     ]
    },
    {
     "data": {
      "image/png": "[encoded data removed]",
      "text/plain": [
       "<Figure size 432x288 with 1 Axes>"
      ]
     },
     "metadata": {
      "needs_background": "light"
     },
     "output_type": "display_data"
    },
    {
     "name": "stdout",
     "output_type": "stream",
     "text": [
      "Model accuracy: 0.966\n"
     ]
    }
   ],
   "source": [
    "num_epochs = 50\n",
    "learn_rate = 1e-3\n",
    "batch_size = 16\n",
    "model = MLP()\n",
    "criterion = CrossEntropyCriterion()\n",
    "train_model(num_epochs, learn_rate, batch_size, model, criterion, train_data, train_labels, val_data, val_labels)\n",
    "model_accuracy = evaluate_model(model, val_data, val_labels, batch_size, num_samples)\n",
    "print('Model accuracy:', model_accuracy)"
   ]
  },
  {
   "cell_type": "markdown",
   "metadata": {},
   "source": [
    "#### Add a parameter to vary the size of the intermediate layer."
   ]
  },
  {
   "cell_type": "code",
   "execution_count": 10,
   "metadata": {},
   "outputs": [],
   "source": [
    "class MLP(Module):\n",
    "\n",
    "    def __init__(self, hidden_size, num_classes=10):\n",
    "        super(MLP, self).__init__()\n",
    "        self.fc1 = Linear(784, hidden_size)\n",
    "        self.relu1 = ReLU()\n",
    "        self.fc2 = Linear(hidden_size, 10)\n",
    "    \n",
    "    def forward(self, x):\n",
    "        x = self.fc1.forward(x)\n",
    "        x = self.relu1.forward(x)\n",
    "        x = self.fc2.forward(x)\n",
    "        return x\n",
    "    \n",
    "    def backward(self, x, gradient):\n",
    "        gradient = self.fc2.backward(self.relu1.output,gradient)\n",
    "        gradient = self.relu1.backward(self.fc1.output,gradient)\n",
    "        gradient = self.fc1.backward(x,gradient)\n",
    "        return gradient\n",
    "    \n",
    "    def gradientStep(self, lr):\n",
    "        self.fc2.gradientStep(lr)\n",
    "        self.fc1.gradientStep(lr)\n",
    "        return True"
   ]
  },
  {
   "cell_type": "code",
   "execution_count": 11,
   "metadata": {},
   "outputs": [
    {
     "name": "stdout",
     "output_type": "stream",
     "text": [
      "Training epoch: 10\n",
      "Training epoch: 20\n",
      "Training epoch: 30\n",
      "Training epoch: 40\n",
      "Training epoch: 50\n"
     ]
    },
    {
     "data": {
      "image/png": "[encoded data removed]",
      "text/plain": [
       "<Figure size 432x288 with 1 Axes>"
      ]
     },
     "metadata": {
      "needs_background": "light"
     },
     "output_type": "display_data"
    },
    {
     "name": "stdout",
     "output_type": "stream",
     "text": [
      "Model accuracy: 0.977\n"
     ]
    }
   ],
   "source": [
    "num_epochs = 50\n",
    "learn_rate = 1e-3\n",
    "batch_size = 16\n",
    "model = MLP(hidden_size=128)\n",
    "criterion = LeastSquareCriterion()\n",
    "train_model(num_epochs, learn_rate, batch_size, model, criterion, train_data, train_labels, val_data, val_labels)\n",
    "model_accuracy = evaluate_model(model, val_data, val_labels, batch_size, num_samples)\n",
    "print('Model accuracy:', model_accuracy)"
   ]
  },
  {
   "cell_type": "markdown",
   "metadata": {},
   "source": [
    "#### Use a MLP with 3 layers and parameters for the sizes of the two intermediate layers."
   ]
  },
  {
   "cell_type": "code",
   "execution_count": 12,
   "metadata": {},
   "outputs": [],
   "source": [
    "class MLP(Module):\n",
    "\n",
    "    def __init__(self, hidden_size_1, hidden_size_2, num_classes=10):\n",
    "        super(MLP, self).__init__()\n",
    "        self.fc1 = Linear(784, hidden_size_1)\n",
    "        self.relu1 = ReLU()\n",
    "        self.fc2 = Linear(hidden_size_1, hidden_size_2)\n",
    "        self.relu2 = ReLU()\n",
    "        self.fc3 = Linear(hidden_size_2, 10)\n",
    "    \n",
    "    def forward(self, x):\n",
    "        x = self.fc1.forward(x)\n",
    "        x = self.relu1.forward(x)\n",
    "        x = self.fc2.forward(x)\n",
    "        x = self.relu2.forward(x)\n",
    "        x = self.fc3.forward(x)\n",
    "        return x\n",
    "    \n",
    "    def backward(self, x, gradient):\n",
    "        gradient = self.fc3.backward(self.relu2.output,gradient)\n",
    "        gradient = self.relu2.backward(self.fc2.output,gradient)\n",
    "        gradient = self.fc2.backward(self.relu1.output,gradient)\n",
    "        gradient = self.relu1.backward(self.fc1.output,gradient)\n",
    "        gradient = self.fc1.backward(x,gradient)\n",
    "        return gradient\n",
    "    \n",
    "    def gradientStep(self, lr):\n",
    "        self.fc3.gradientStep(lr)\n",
    "        self.fc2.gradientStep(lr)\n",
    "        self.fc1.gradientStep(lr)\n",
    "        return True"
   ]
  },
  {
   "cell_type": "code",
   "execution_count": 13,
   "metadata": {},
   "outputs": [
    {
     "name": "stdout",
     "output_type": "stream",
     "text": [
      "Training epoch: 10\n",
      "Training epoch: 20\n",
      "Training epoch: 30\n",
      "Training epoch: 40\n",
      "Training epoch: 50\n"
     ]
    },
    {
     "data": {
      "image/png": "[encoded data removed]",
      "text/plain": [
       "<Figure size 432x288 with 1 Axes>"
      ]
     },
     "metadata": {
      "needs_background": "light"
     },
     "output_type": "display_data"
    },
    {
     "name": "stdout",
     "output_type": "stream",
     "text": [
      "Model accuracy: 0.985\n"
     ]
    }
   ],
   "source": [
    "num_epochs = 50\n",
    "learn_rate = 1e-3\n",
    "batch_size = 16\n",
    "model = MLP(hidden_size_1=128, hidden_size_2=36)\n",
    "criterion = LeastSquareCriterion()\n",
    "train_model(num_epochs, learn_rate, batch_size, model, criterion, train_data, train_labels, val_data, val_labels)\n",
    "model_accuracy = evaluate_model(model, val_data, val_labels, batch_size, num_samples)\n",
    "print('Model accuracy:', model_accuracy)"
   ]
  }
 ],
 "metadata": {
  "colab": {
   "collapsed_sections": [],
   "name": "homework4.ipynb",
   "provenance": []
  },
  "kernelspec": {
   "display_name": "Python 3",
   "language": "python",
   "name": "python3"
  },
  "language_info": {
   "codemirror_mode": {
    "name": "ipython",
    "version": 3
   },
   "file_extension": ".py",
   "mimetype": "text/x-python",
   "name": "python",
   "nbconvert_exporter": "python",
   "pygments_lexer": "ipython3",
   "version": "3.8.3"
  }
 },
 "nbformat": 4,
 "nbformat_minor": 1
}
